{
 "cells": [
  {
   "cell_type": "code",
   "execution_count": 10,
   "metadata": {},
   "outputs": [
    {
     "name": "stdout",
     "output_type": "stream",
     "text": [
      "<class 'pandas.core.frame.DataFrame'>\n",
      "RangeIndex: 119390 entries, 0 to 119389\n",
      "Data columns (total 32 columns):\n",
      " #   Column                          Non-Null Count   Dtype  \n",
      "---  ------                          --------------   -----  \n",
      " 0   hotel                           119390 non-null  object \n",
      " 1   is_canceled                     119390 non-null  int64  \n",
      " 2   lead_time                       119390 non-null  int64  \n",
      " 3   arrival_date_year               119390 non-null  int64  \n",
      " 4   arrival_date_month              119390 non-null  object \n",
      " 5   arrival_date_week_number        119390 non-null  int64  \n",
      " 6   arrival_date_day_of_month       119390 non-null  int64  \n",
      " 7   stays_in_weekend_nights         119390 non-null  int64  \n",
      " 8   stays_in_week_nights            119390 non-null  int64  \n",
      " 9   adults                          119390 non-null  int64  \n",
      " 10  children                        119386 non-null  float64\n",
      " 11  babies                          119390 non-null  int64  \n",
      " 12  meal                            119390 non-null  object \n",
      " 13  country                         118902 non-null  object \n",
      " 14  market_segment                  119390 non-null  object \n",
      " 15  distribution_channel            119390 non-null  object \n",
      " 16  is_repeated_guest               119390 non-null  int64  \n",
      " 17  previous_cancellations          119390 non-null  int64  \n",
      " 18  previous_bookings_not_canceled  119390 non-null  int64  \n",
      " 19  reserved_room_type              119390 non-null  object \n",
      " 20  assigned_room_type              119390 non-null  object \n",
      " 21  booking_changes                 119390 non-null  int64  \n",
      " 22  deposit_type                    119390 non-null  object \n",
      " 23  agent                           103050 non-null  float64\n",
      " 24  company                         6797 non-null    float64\n",
      " 25  days_in_waiting_list            119390 non-null  int64  \n",
      " 26  customer_type                   119390 non-null  object \n",
      " 27  adr                             119390 non-null  float64\n",
      " 28  required_car_parking_spaces     119390 non-null  int64  \n",
      " 29  total_of_special_requests       119390 non-null  int64  \n",
      " 30  reservation_status              119390 non-null  object \n",
      " 31  reservation_status_date         119390 non-null  object \n",
      "dtypes: float64(4), int64(16), object(12)\n",
      "memory usage: 29.1+ MB\n"
     ]
    },
    {
     "data": {
      "text/plain": [
       "(None,\n",
       "           hotel  is_canceled  lead_time  arrival_date_year arrival_date_month  \\\n",
       " 0  Resort Hotel            0        342               2015               July   \n",
       " 1  Resort Hotel            0        737               2015               July   \n",
       " 2  Resort Hotel            0          7               2015               July   \n",
       " \n",
       "    arrival_date_week_number  arrival_date_day_of_month  \\\n",
       " 0                        27                          1   \n",
       " 1                        27                          1   \n",
       " 2                        27                          1   \n",
       " \n",
       "    stays_in_weekend_nights  stays_in_week_nights  adults  ...  deposit_type  \\\n",
       " 0                        0                     0       2  ...    No Deposit   \n",
       " 1                        0                     0       2  ...    No Deposit   \n",
       " 2                        0                     1       1  ...    No Deposit   \n",
       " \n",
       "    agent company days_in_waiting_list customer_type   adr  \\\n",
       " 0    NaN     NaN                    0     Transient   0.0   \n",
       " 1    NaN     NaN                    0     Transient   0.0   \n",
       " 2    NaN     NaN                    0     Transient  75.0   \n",
       " \n",
       "    required_car_parking_spaces  total_of_special_requests  reservation_status  \\\n",
       " 0                            0                          0           Check-Out   \n",
       " 1                            0                          0           Check-Out   \n",
       " 2                            0                          0           Check-Out   \n",
       " \n",
       "   reservation_status_date  \n",
       " 0                01-07-15  \n",
       " 1                01-07-15  \n",
       " 2                02-07-15  \n",
       " \n",
       " [3 rows x 32 columns])"
      ]
     },
     "execution_count": 10,
     "metadata": {},
     "output_type": "execute_result"
    }
   ],
   "source": [
    "import pandas as pd\n",
    "\n",
    "# Load the newly uploaded hotel bookings dataset\n",
    "df = pd.read_csv(\"C:/Users/karth/Downloads/Buyogo_assignment/hotel_bookings.csv\")\n",
    "df.info(), df.head(3)"
   ]
  },
  {
   "cell_type": "code",
   "execution_count": null,
   "metadata": {},
   "outputs": [
    {
     "data": {
      "text/plain": [
       "'August'"
      ]
     },
     "execution_count": 11,
     "metadata": {},
     "output_type": "execute_result"
    }
   ],
   "source": [
    "# Find the month with the highest number of arrivals\n",
    "# Question: Which month had the highest number of arrivals?\n",
    "top_month = df['arrival_date_month'].value_counts().idxmax()\n",
    "top_month"
   ]
  },
  {
   "cell_type": "code",
   "execution_count": 12,
   "metadata": {},
   "outputs": [
    {
     "data": {
      "text/plain": [
       "'BB'"
      ]
     },
     "execution_count": 12,
     "metadata": {},
     "output_type": "execute_result"
    }
   ],
   "source": [
    "# Find the most common meal type\n",
    "# Question: What is the most common meal type?\n",
    "most_common_meal = df['meal'].value_counts().idxmax()\n",
    "most_common_meal"
   ]
  },
  {
   "cell_type": "code",
   "execution_count": null,
   "metadata": {},
   "outputs": [
    {
     "data": {
      "text/plain": [
       "'Online TA'"
      ]
     },
     "execution_count": 13,
     "metadata": {},
     "output_type": "execute_result"
    }
   ],
   "source": [
    "# Find the market segment with the most bookings\n",
    "# Question: Which market segment had the most bookings?\n",
    "top_market_segment = df['market_segment'].value_counts().idxmax()\n",
    "top_market_segment"
   ]
  },
  {
   "cell_type": "code",
   "execution_count": 14,
   "metadata": {},
   "outputs": [
    {
     "data": {
      "text/plain": [
       "'A'"
      ]
     },
     "execution_count": 14,
     "metadata": {},
     "output_type": "execute_result"
    }
   ],
   "source": [
    "# Find the most commonly reserved room type\n",
    "# Question: Which room type is most commonly reserved?\n",
    "most_reserved_room = df['reserved_room_type'].value_counts().idxmax()\n",
    "most_reserved_room"
   ]
  },
  {
   "cell_type": "code",
   "execution_count": 15,
   "metadata": {},
   "outputs": [
    {
     "data": {
      "text/plain": [
       "'Transient'"
      ]
     },
     "execution_count": 15,
     "metadata": {},
     "output_type": "execute_result"
    }
   ],
   "source": [
    "# Find the most common customer type\n",
    "# Question: What is the most common customer type?\n",
    "most_common_customer_type = df['customer_type'].value_counts().idxmax()\n",
    "most_common_customer_type"
   ]
  },
  {
   "cell_type": "markdown",
   "metadata": {},
   "source": [
    "By using the above data, let's create the test data."
   ]
  },
  {
   "cell_type": "code",
   "execution_count": 16,
   "metadata": {},
   "outputs": [],
   "source": [
    "import json\n",
    "\n",
    "# Define the test set\n",
    "test_data = [\n",
    "  {\n",
    "    \"query\": \"Which month had the highest number of arrivals?\",\n",
    "    \"expected_answer\": \"August\"\n",
    "  },\n",
    "  {\n",
    "    \"query\": \"What is the most common meal type?\",\n",
    "    \"expected_answer\": \"BB\"\n",
    "  },\n",
    "  {\n",
    "    \"query\": \"Which market segment had the most bookings?\",\n",
    "    \"expected_answer\": \"Online TA\"\n",
    "  },\n",
    "  {\n",
    "    \"query\": \"Which room type is most commonly reserved?\",\n",
    "    \"expected_answer\": \"A\"\n",
    "  },\n",
    "  {\n",
    "    \"query\": \"What is the most common customer type?\",\n",
    "    \"expected_answer\": \"Transient\"\n",
    "  }\n",
    "]\n"
   ]
  },
  {
   "cell_type": "code",
   "execution_count": 17,
   "metadata": {},
   "outputs": [],
   "source": [
    "# Save to JSON file\n",
    "test_set_path = \"hotel_booking_eval_test_set.json\"\n",
    "with open(test_set_path, \"w\") as f:\n",
    "    json.dump(test_data, f, indent=2)"
   ]
  },
  {
   "cell_type": "code",
   "execution_count": 18,
   "metadata": {},
   "outputs": [
    {
     "data": {
      "text/plain": [
       "'hotel_booking_eval_test_set.json'"
      ]
     },
     "execution_count": 18,
     "metadata": {},
     "output_type": "execute_result"
    }
   ],
   "source": [
    "test_set_path"
   ]
  }
 ],
 "metadata": {
  "kernelspec": {
   "display_name": "Python 3",
   "language": "python",
   "name": "python3"
  },
  "language_info": {
   "codemirror_mode": {
    "name": "ipython",
    "version": 3
   },
   "file_extension": ".py",
   "mimetype": "text/x-python",
   "name": "python",
   "nbconvert_exporter": "python",
   "pygments_lexer": "ipython3",
   "version": "3.12.0"
  }
 },
 "nbformat": 4,
 "nbformat_minor": 2
}
